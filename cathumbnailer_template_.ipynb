{
 "cells": [
  {
   "cell_type": "code",
   "execution_count": 1,
   "metadata": {},
   "outputs": [
    {
     "data": {
      "application/javascript": [
       "\n",
       "try {\n",
       "require(['notebook/js/codecell'], function(codecell) {\n",
       "  codecell.CodeCell.options_default.highlight_modes[\n",
       "      'magic_text/x-csrc'] = {'reg':[/^%%microblaze/]};\n",
       "  Jupyter.notebook.events.one('kernel_ready.Kernel', function(){\n",
       "      Jupyter.notebook.get_cells().map(function(cell){\n",
       "          if (cell.cell_type == 'code'){ cell.auto_highlight(); } }) ;\n",
       "  });\n",
       "});\n",
       "} catch (e) {};\n"
      ]
     },
     "metadata": {},
     "output_type": "display_data"
    },
    {
     "data": {
      "application/javascript": [
       "\n",
       "try {\n",
       "require(['notebook/js/codecell'], function(codecell) {\n",
       "  codecell.CodeCell.options_default.highlight_modes[\n",
       "      'magic_text/x-csrc'] = {'reg':[/^%%pybind11/]};\n",
       "  Jupyter.notebook.events.one('kernel_ready.Kernel', function(){\n",
       "      Jupyter.notebook.get_cells().map(function(cell){\n",
       "          if (cell.cell_type == 'code'){ cell.auto_highlight(); } }) ;\n",
       "  });\n",
       "});\n",
       "} catch (e) {};\n"
      ]
     },
     "metadata": {},
     "output_type": "display_data"
    }
   ],
   "source": [
    "### TODO import libraries and apply overlay\n",
    "\n",
    "### Lib for downloading images\n",
    "from simple_image_download import simple_image_download as simp\n",
    "from IPython.display import Image\n",
    "\n",
    "### Lib for os-path interaction\n",
    "import os\n",
    "from pathlib import Path\n",
    "\n",
    "from PIL import Image\n",
    "import numpy as np\n",
    "import matplotlib.pyplot as plt\n",
    "%matplotlib inline\n",
    "\n",
    "from pynq import Xlnk, Overlay"
   ]
  },
  {
   "cell_type": "code",
   "execution_count": 22,
   "metadata": {},
   "outputs": [],
   "source": [
    "### TODO download cat images into the folder `simple_images/cat/`\n",
    "response = simp.simple_image_download\n",
    "searchterm = 'cat'\n",
    "\n",
    "response().download(searchterm, 15)"
   ]
  },
  {
   "cell_type": "code",
   "execution_count": 23,
   "metadata": {},
   "outputs": [],
   "source": [
    "Thumbail_Width = 64"
   ]
  },
  {
   "cell_type": "code",
   "execution_count": 22,
   "metadata": {},
   "outputs": [],
   "source": [
    "### CPU Resizer Function\n",
    "def cpu_resize_images(image_path, img_num):\n",
    "    \n",
    "    ### Create an Image object\n",
    "    original_image = Image.open(image_path)\n",
    "    \n",
    "    ### Resizing\n",
    "    old_width, old_height = original_image.size\n",
    "    print(\"old image size: {}x{} pixels.\".format(old_width, old_height))\n",
    "    \n",
    "    new_width = Thumbail_Width\n",
    "    resize_factor = int(old_width/new_width + 0.5)\n",
    "    new_height = int(old_height/resize_factor + 0.5)\n",
    "    \n",
    "    # new_width = int(old_width/resize_factor + 0.5)\n",
    "    # new_height = int(old_height/resize_factor + 0.5)\n",
    "    \n",
    "    resized_image = original_image.resize((new_width, new_height), Image.BILINEAR)\n",
    "    \n",
    "    res_width, res_height = resized_image.size\n",
    "    print(\"new image size: {}x{} pixels.\".format(res_width, res_height))\n",
    "    \n",
    "    ### Save Image\n",
    "    resized_image.save(r\"result_images/Software/resized_cat_\"+str(img_num)+\".jpg\")\n",
    "\n",
    "    return resized_image"
   ]
  },
  {
   "cell_type": "code",
   "execution_count": 25,
   "metadata": {},
   "outputs": [],
   "source": [
    "### Hardware Resizer Function\n",
    "def fpga_resize_images(image_path, img_num):\n",
    "    \n",
    "    ## Save result image to the following directory!\n",
    "    res_directory = 'result_images'\n",
    "    \n",
    "    resize_design = Overlay(\"resizer.bit\")\n",
    "    dma = resize_design.axi_dma_0\n",
    "    resizer = resize_design.resize_accel_0\n",
    "    \n",
    "    ### Create an Image object\n",
    "    original_image = Image.open(image_path)\n",
    "    \n",
    "    ### Resizing\n",
    "    old_width, old_height = original_image.size\n",
    "    print(\"Image size: {}x{} pixels.\".format(old_width, old_height))\n",
    "    \n",
    "    if(old_width > 4000 or old_height > 4000):\n",
    "        print(\"Picture to large for the image resizer,... yes, really\")\n",
    "        return()\n",
    "    \n",
    "    new_width = Thumbail_Width\n",
    "    resize_factor = int(old_width/new_width + 0.5)\n",
    "    new_height = int(old_height/resize_factor + 0.5)\n",
    "    \n",
    "    # new_width = int(old_width/resize_factor + 0.5)\n",
    "    # new_height = int(old_height/resize_factor + 0.5)\n",
    "    \n",
    "    ###Create Hardware Buffer\n",
    "    xlnk = Xlnk()\n",
    "    in_buffer = xlnk.cma_array(shape=(old_height, old_width, 3), dtype=np.uint8, cacheable=1)\n",
    "    out_buffer = xlnk.cma_array(shape=(new_height, new_width, 3), dtype=np.uint8, cacheable=1)\n",
    "    \n",
    "    in_buffer[:] = np.array(original_image)\n",
    "        \n",
    "    ### Write dimension data to MMIO register\n",
    "    resizer.write(0x10, old_height)\n",
    "    resizer.write(0x18, old_width)\n",
    "    resizer.write(0x20, new_height)\n",
    "    resizer.write(0x28, new_width)\n",
    "    \n",
    "    ### Run Kernel\n",
    "    dma.sendchannel.transfer(in_buffer)\n",
    "    dma.recvchannel.transfer(out_buffer)\n",
    "    resizer.write(0x00,0x81) # start\n",
    "    dma.sendchannel.wait()\n",
    "    dma.recvchannel.wait()\n",
    "    \n",
    "    ### Readout resized image\n",
    "    resized_image = Image.fromarray(out_buffer)\n",
    "    \n",
    "    res_width, res_height = resized_image.size\n",
    "    print(\"Image size: {}x{} pixels.\".format(res_width, res_height))\n",
    "    \n",
    "    ### Save Image\n",
    "    resized_image.save(r\"result_images/Hardware/resized_cat_\"+str(img_num)+\".jpg\")\n",
    "    \n",
    "    # Reset Memory buffer\n",
    "    xlnk.xlnk_reset()\n",
    "    \n",
    "    return resized_image"
   ]
  },
  {
   "cell_type": "code",
   "execution_count": 5,
   "metadata": {},
   "outputs": [],
   "source": [
    "## Call CPU resizer in for loop for every picture!\n",
    "def software():\n",
    "    directory = 'simple_images/cat'\n",
    "    img_num = 1\n",
    "\n",
    "    for filename in os.listdir(directory):\n",
    "        if filename.endswith(\".jpg\") or filename.endswith(\".png\"):\n",
    "            try:\n",
    "                original_image = Image.open(os.path.join(directory, filename))\n",
    "            except OSError:\n",
    "                print(\"ERROR: Picture \" + filename + \" could not be opened!\")\n",
    "            else:\n",
    "                print(\"Resize picture \" + filename)\n",
    "                cpu_resize_images(os.path.join(directory, filename), img_num)\n",
    "                img_num += 1;\n",
    "        else:\n",
    "            continue\n"
   ]
  },
  {
   "cell_type": "code",
   "execution_count": 6,
   "metadata": {},
   "outputs": [],
   "source": [
    "## Call Hardware resizer in for loop for every picture!\n",
    "def hardware():\n",
    "    directory = 'simple_images/cat'\n",
    "    img_num = 1\n",
    "\n",
    "    for filename in os.listdir(directory):\n",
    "        if filename.endswith(\".jpg\") or filename.endswith(\".png\"):\n",
    "            try:\n",
    "                original_image = Image.open(os.path.join(directory, filename))\n",
    "            except OSError:\n",
    "                print(\"ERROR: Picture \" + filename + \" could not be opened!\")\n",
    "            else:\n",
    "                print(\"Resize picture \" + filename)\n",
    "                fpga_resize_images(os.path.join(directory, filename), img_num)\n",
    "                img_num += 1;\n",
    "        else:\n",
    "            continue\n"
   ]
  },
  {
   "cell_type": "code",
   "execution_count": 5,
   "metadata": {},
   "outputs": [],
   "source": [
    "# TODO runtime comparison"
   ]
  },
  {
   "cell_type": "code",
   "execution_count": 40,
   "metadata": {
    "scrolled": true
   },
   "outputs": [
    {
     "name": "stdout",
     "output_type": "stream",
     "text": [
      "Resize picture cat_7.jpg\n",
      "Image size: 2800x1575 pixels.\n"
     ]
    },
    {
     "name": "stderr",
     "output_type": "stream",
     "text": [
      "/usr/lib/python3/dist-packages/ipykernel_launcher.py:30: DeprecationWarning: pynq.Xlnk is deprecated and will be removed in 2.7 - use pynq.allocate instead\n"
     ]
    },
    {
     "name": "stdout",
     "output_type": "stream",
     "text": [
      "Image size: 64x37 pixels.\n",
      "Resize picture cat_1.jpg\n",
      "Image size: 1200x600 pixels.\n",
      "Image size: 64x33 pixels.\n",
      "Resize picture cat_10.jpg\n",
      "Image size: 1200x1200 pixels.\n",
      "Image size: 64x67 pixels.\n",
      "Resize picture cat_11.jpg\n"
     ]
    },
    {
     "name": "stderr",
     "output_type": "stream",
     "text": [
      "/usr/lib/python3/dist-packages/PIL/TiffImagePlugin.py:756: UserWarning: Corrupt EXIF data.  Expecting to read 4 bytes but only got 0. \n",
      "  warnings.warn(str(msg))\n"
     ]
    },
    {
     "name": "stdout",
     "output_type": "stream",
     "text": [
      "Image size: 5000x3333 pixels.\n",
      "Picture to large for the image resizer,... yes, really\n",
      "Resize picture cat_12.jpg\n",
      "Image size: 1200x1199 pixels.\n",
      "Image size: 64x67 pixels.\n",
      "ERROR: Picture cat_9.jpg could not be opened!\n",
      "Resize picture cat_13.jpg\n",
      "Image size: 976x549 pixels.\n",
      "Image size: 64x37 pixels.\n",
      "Resize picture cat_15.jpg\n",
      "Image size: 1240x698 pixels.\n",
      "Image size: 64x37 pixels.\n",
      "Resize picture cat_4.jpg\n",
      "Image size: 1800x1200 pixels.\n",
      "Image size: 64x43 pixels.\n",
      "Resize picture cat_8.jpg\n",
      "Image size: 1240x698 pixels.\n",
      "Image size: 64x37 pixels.\n",
      "Resize picture cat_6.jpg\n",
      "Image size: 976x549 pixels.\n",
      "Image size: 64x37 pixels.\n",
      "Resize picture cat_14.jpg\n",
      "Image size: 2120x1415 pixels.\n",
      "Image size: 64x43 pixels.\n",
      "ERROR: Picture cat_3.jpg could not be opened!\n",
      "Resize picture cat_2.jpg\n",
      "Image size: 2187x2187 pixels.\n",
      "Image size: 64x64 pixels.\n",
      "Resize picture cat_5.jpg\n",
      "Image size: 955x770 pixels.\n",
      "Image size: 64x55 pixels.\n",
      "1 loop, best of 1: 15.5 s per loop\n",
      "Resize picture cat_7.jpg\n",
      "Image size: 2800x1575 pixels.\n"
     ]
    },
    {
     "name": "stderr",
     "output_type": "stream",
     "text": [
      "/usr/lib/python3/dist-packages/ipykernel_launcher.py:30: DeprecationWarning: pynq.Xlnk is deprecated and will be removed in 2.7 - use pynq.allocate instead\n"
     ]
    },
    {
     "name": "stdout",
     "output_type": "stream",
     "text": [
      "Image size: 256x158 pixels.\n",
      "Resize picture cat_1.jpg\n",
      "Image size: 1200x600 pixels.\n",
      "Image size: 256x150 pixels.\n",
      "Resize picture cat_10.jpg\n",
      "Image size: 1200x1200 pixels.\n",
      "Image size: 256x300 pixels.\n",
      "Resize picture cat_11.jpg\n"
     ]
    },
    {
     "name": "stderr",
     "output_type": "stream",
     "text": [
      "/usr/lib/python3/dist-packages/PIL/TiffImagePlugin.py:756: UserWarning: Corrupt EXIF data.  Expecting to read 4 bytes but only got 0. \n",
      "  warnings.warn(str(msg))\n"
     ]
    },
    {
     "name": "stdout",
     "output_type": "stream",
     "text": [
      "Image size: 5000x3333 pixels.\n",
      "Picture to large for the image resizer,... yes, really\n",
      "Resize picture cat_12.jpg\n",
      "Image size: 1200x1199 pixels.\n",
      "Image size: 256x300 pixels.\n",
      "ERROR: Picture cat_9.jpg could not be opened!\n",
      "Resize picture cat_13.jpg\n",
      "Image size: 976x549 pixels.\n",
      "Image size: 256x183 pixels.\n",
      "Resize picture cat_15.jpg\n",
      "Image size: 1240x698 pixels.\n",
      "Image size: 256x175 pixels.\n",
      "Resize picture cat_4.jpg\n",
      "Image size: 1800x1200 pixels.\n",
      "Image size: 256x171 pixels.\n",
      "Resize picture cat_8.jpg\n",
      "Image size: 1240x698 pixels.\n",
      "Image size: 256x175 pixels.\n",
      "Resize picture cat_6.jpg\n",
      "Image size: 976x549 pixels.\n",
      "Image size: 256x183 pixels.\n",
      "Resize picture cat_14.jpg\n",
      "Image size: 2120x1415 pixels.\n",
      "Image size: 256x177 pixels.\n",
      "ERROR: Picture cat_3.jpg could not be opened!\n",
      "Resize picture cat_2.jpg\n",
      "Image size: 2187x2187 pixels.\n",
      "Image size: 256x273 pixels.\n",
      "Resize picture cat_5.jpg\n",
      "Image size: 955x770 pixels.\n",
      "Image size: 256x257 pixels.\n",
      "1 loop, best of 1: 15.5 s per loop\n",
      "Resize picture cat_7.jpg\n",
      "Image size: 2800x1575 pixels.\n"
     ]
    },
    {
     "name": "stderr",
     "output_type": "stream",
     "text": [
      "/usr/lib/python3/dist-packages/ipykernel_launcher.py:30: DeprecationWarning: pynq.Xlnk is deprecated and will be removed in 2.7 - use pynq.allocate instead\n"
     ]
    },
    {
     "name": "stdout",
     "output_type": "stream",
     "text": [
      "Image size: 512x315 pixels.\n",
      "Resize picture cat_1.jpg\n",
      "Image size: 1200x600 pixels.\n",
      "Image size: 512x300 pixels.\n",
      "Resize picture cat_10.jpg\n",
      "Image size: 1200x1200 pixels.\n",
      "Image size: 512x600 pixels.\n",
      "Resize picture cat_11.jpg\n"
     ]
    },
    {
     "name": "stderr",
     "output_type": "stream",
     "text": [
      "/usr/lib/python3/dist-packages/PIL/TiffImagePlugin.py:756: UserWarning: Corrupt EXIF data.  Expecting to read 4 bytes but only got 0. \n",
      "  warnings.warn(str(msg))\n"
     ]
    },
    {
     "name": "stdout",
     "output_type": "stream",
     "text": [
      "Image size: 5000x3333 pixels.\n",
      "Picture to large for the image resizer,... yes, really\n",
      "Resize picture cat_12.jpg\n",
      "Image size: 1200x1199 pixels.\n",
      "Image size: 512x600 pixels.\n",
      "ERROR: Picture cat_9.jpg could not be opened!\n",
      "Resize picture cat_13.jpg\n",
      "Image size: 976x549 pixels.\n",
      "Image size: 512x549 pixels.\n",
      "Resize picture cat_15.jpg\n",
      "Image size: 1240x698 pixels.\n",
      "Image size: 512x349 pixels.\n",
      "Resize picture cat_4.jpg\n",
      "Image size: 1800x1200 pixels.\n",
      "Image size: 512x400 pixels.\n",
      "Resize picture cat_8.jpg\n",
      "Image size: 1240x698 pixels.\n",
      "Image size: 512x349 pixels.\n",
      "Resize picture cat_6.jpg\n",
      "Image size: 976x549 pixels.\n",
      "Image size: 512x549 pixels.\n",
      "Resize picture cat_14.jpg\n",
      "Image size: 2120x1415 pixels.\n",
      "Image size: 512x354 pixels.\n",
      "ERROR: Picture cat_3.jpg could not be opened!\n",
      "Resize picture cat_2.jpg\n",
      "Image size: 2187x2187 pixels.\n",
      "Image size: 512x547 pixels.\n",
      "Resize picture cat_5.jpg\n",
      "Image size: 955x770 pixels.\n",
      "Image size: 512x770 pixels.\n",
      "1 loop, best of 1: 15 s per loop\n"
     ]
    }
   ],
   "source": [
    "# TODO timeit fpga_resize_images(image_paths)\n",
    "hard_time = []\n",
    "\n",
    "for x in [64, 256, 512]:\n",
    "    Thumbail_Width = x\n",
    "\n",
    "    a = %timeit -n 1 -r 1 -o hardware()\n",
    "    hard_time.append(a.best)"
   ]
  },
  {
   "cell_type": "code",
   "execution_count": 42,
   "metadata": {},
   "outputs": [
    {
     "name": "stdout",
     "output_type": "stream",
     "text": [
      "Resize picture cat_7.jpg\n",
      "old image size: 2800x1575 pixels.\n",
      "new image size: 64x37 pixels.\n",
      "Resize picture cat_1.jpg\n",
      "old image size: 1200x600 pixels.\n",
      "new image size: 64x33 pixels.\n",
      "Resize picture cat_10.jpg\n",
      "old image size: 1200x1200 pixels.\n",
      "new image size: 64x67 pixels.\n",
      "Resize picture cat_11.jpg\n",
      "old image size: 5000x3333 pixels.\n"
     ]
    },
    {
     "name": "stderr",
     "output_type": "stream",
     "text": [
      "/usr/lib/python3/dist-packages/PIL/TiffImagePlugin.py:756: UserWarning: Corrupt EXIF data.  Expecting to read 4 bytes but only got 0. \n",
      "  warnings.warn(str(msg))\n"
     ]
    },
    {
     "name": "stdout",
     "output_type": "stream",
     "text": [
      "new image size: 64x43 pixels.\n",
      "Resize picture cat_12.jpg\n",
      "old image size: 1200x1199 pixels.\n",
      "new image size: 64x67 pixels.\n",
      "ERROR: Picture cat_9.jpg could not be opened!\n",
      "Resize picture cat_13.jpg\n",
      "old image size: 976x549 pixels.\n",
      "new image size: 64x37 pixels.\n",
      "Resize picture cat_15.jpg\n",
      "old image size: 1240x698 pixels.\n",
      "new image size: 64x37 pixels.\n",
      "Resize picture cat_4.jpg\n",
      "old image size: 1800x1200 pixels.\n",
      "new image size: 64x43 pixels.\n",
      "Resize picture cat_8.jpg\n",
      "old image size: 1240x698 pixels.\n",
      "new image size: 64x37 pixels.\n",
      "Resize picture cat_6.jpg\n",
      "old image size: 976x549 pixels.\n",
      "new image size: 64x37 pixels.\n",
      "Resize picture cat_14.jpg\n",
      "old image size: 2120x1415 pixels.\n",
      "new image size: 64x43 pixels.\n",
      "ERROR: Picture cat_3.jpg could not be opened!\n",
      "Resize picture cat_2.jpg\n",
      "old image size: 2187x2187 pixels.\n",
      "new image size: 64x64 pixels.\n",
      "Resize picture cat_5.jpg\n",
      "old image size: 955x770 pixels.\n",
      "new image size: 64x55 pixels.\n",
      "1 loop, best of 1: 7.05 s per loop\n",
      "Resize picture cat_7.jpg\n",
      "old image size: 2800x1575 pixels.\n",
      "new image size: 256x158 pixels.\n",
      "Resize picture cat_1.jpg\n",
      "old image size: 1200x600 pixels.\n",
      "new image size: 256x150 pixels.\n",
      "Resize picture cat_10.jpg\n",
      "old image size: 1200x1200 pixels.\n",
      "new image size: 256x300 pixels.\n",
      "Resize picture cat_11.jpg\n",
      "old image size: 5000x3333 pixels.\n"
     ]
    },
    {
     "name": "stderr",
     "output_type": "stream",
     "text": [
      "/usr/lib/python3/dist-packages/PIL/TiffImagePlugin.py:756: UserWarning: Corrupt EXIF data.  Expecting to read 4 bytes but only got 0. \n",
      "  warnings.warn(str(msg))\n"
     ]
    },
    {
     "name": "stdout",
     "output_type": "stream",
     "text": [
      "new image size: 256x175 pixels.\n",
      "Resize picture cat_12.jpg\n",
      "old image size: 1200x1199 pixels.\n",
      "new image size: 256x300 pixels.\n",
      "ERROR: Picture cat_9.jpg could not be opened!\n",
      "Resize picture cat_13.jpg\n",
      "old image size: 976x549 pixels.\n",
      "new image size: 256x183 pixels.\n",
      "Resize picture cat_15.jpg\n",
      "old image size: 1240x698 pixels.\n",
      "new image size: 256x175 pixels.\n",
      "Resize picture cat_4.jpg\n",
      "old image size: 1800x1200 pixels.\n",
      "new image size: 256x171 pixels.\n",
      "Resize picture cat_8.jpg\n",
      "old image size: 1240x698 pixels.\n",
      "new image size: 256x175 pixels.\n",
      "Resize picture cat_6.jpg\n",
      "old image size: 976x549 pixels.\n",
      "new image size: 256x183 pixels.\n",
      "Resize picture cat_14.jpg\n",
      "old image size: 2120x1415 pixels.\n",
      "new image size: 256x177 pixels.\n",
      "ERROR: Picture cat_3.jpg could not be opened!\n",
      "Resize picture cat_2.jpg\n",
      "old image size: 2187x2187 pixels.\n",
      "new image size: 256x273 pixels.\n",
      "Resize picture cat_5.jpg\n",
      "old image size: 955x770 pixels.\n",
      "new image size: 256x257 pixels.\n",
      "1 loop, best of 1: 7.6 s per loop\n",
      "Resize picture cat_7.jpg\n",
      "old image size: 2800x1575 pixels.\n",
      "new image size: 512x315 pixels.\n",
      "Resize picture cat_1.jpg\n",
      "old image size: 1200x600 pixels.\n",
      "new image size: 512x300 pixels.\n",
      "Resize picture cat_10.jpg\n",
      "old image size: 1200x1200 pixels.\n",
      "new image size: 512x600 pixels.\n",
      "Resize picture cat_11.jpg\n",
      "old image size: 5000x3333 pixels.\n"
     ]
    },
    {
     "name": "stderr",
     "output_type": "stream",
     "text": [
      "/usr/lib/python3/dist-packages/PIL/TiffImagePlugin.py:756: UserWarning: Corrupt EXIF data.  Expecting to read 4 bytes but only got 0. \n",
      "  warnings.warn(str(msg))\n"
     ]
    },
    {
     "name": "stdout",
     "output_type": "stream",
     "text": [
      "new image size: 512x370 pixels.\n",
      "Resize picture cat_12.jpg\n",
      "old image size: 1200x1199 pixels.\n",
      "new image size: 512x600 pixels.\n",
      "ERROR: Picture cat_9.jpg could not be opened!\n",
      "Resize picture cat_13.jpg\n",
      "old image size: 976x549 pixels.\n",
      "new image size: 512x549 pixels.\n",
      "Resize picture cat_15.jpg\n",
      "old image size: 1240x698 pixels.\n",
      "new image size: 512x349 pixels.\n",
      "Resize picture cat_4.jpg\n",
      "old image size: 1800x1200 pixels.\n",
      "new image size: 512x400 pixels.\n",
      "Resize picture cat_8.jpg\n",
      "old image size: 1240x698 pixels.\n",
      "new image size: 512x349 pixels.\n",
      "Resize picture cat_6.jpg\n",
      "old image size: 976x549 pixels.\n",
      "new image size: 512x549 pixels.\n",
      "Resize picture cat_14.jpg\n",
      "old image size: 2120x1415 pixels.\n",
      "new image size: 512x354 pixels.\n",
      "ERROR: Picture cat_3.jpg could not be opened!\n",
      "Resize picture cat_2.jpg\n",
      "old image size: 2187x2187 pixels.\n",
      "new image size: 512x547 pixels.\n",
      "Resize picture cat_5.jpg\n",
      "old image size: 955x770 pixels.\n",
      "new image size: 512x770 pixels.\n",
      "1 loop, best of 1: 8.3 s per loop\n"
     ]
    }
   ],
   "source": [
    "# TODO timeit cpu_resize_images(image_paths)\n",
    "soft_time = []\n",
    "\n",
    "for x in [64, 256, 512]:\n",
    "    Thumbail_Width = x\n",
    "\n",
    "    a = %timeit -n 1 -r 1 -o software()\n",
    "    soft_time.append(a.best)"
   ]
  },
  {
   "cell_type": "code",
   "execution_count": 43,
   "metadata": {},
   "outputs": [
    {
     "data": {
      "image/png": "[encoded data removed]",
      "text/plain": [
       "<matplotlib.figure.Figure at 0xadb338b0>"
      ]
     },
     "metadata": {},
     "output_type": "display_data"
    }
   ],
   "source": [
    "labels = ['64', '128', '256']\n",
    "\n",
    "x = np.arange(len(labels))  # the label locations\n",
    "width = 0.35  # the width of the bars\n",
    "\n",
    "fig, ax = plt.subplots()\n",
    "rects1 = ax.bar(x - width/2, soft_time, width, label='Software')\n",
    "rects2 = ax.bar(x + width/2, hard_time, width, label='Hardware')\n",
    "\n",
    "# Add some text for labels, title and custom x-axis tick labels, etc.\n",
    "ax.set_ylabel('Scores')\n",
    "ax.set_title('Scores by group and gender')\n",
    "ax.set_xticks(x)\n",
    "ax.set_xticklabels(labels)\n",
    "ax.legend()\n",
    "\n",
    "fig.tight_layout()\n",
    "\n",
    "plt.show()"
   ]
  },
  {
   "cell_type": "code",
   "execution_count": null,
   "metadata": {},
   "outputs": [],
   "source": []
  }
 ],
 "metadata": {
  "kernelspec": {
   "display_name": "Python 3",
   "language": "python",
   "name": "python3"
  },
  "language_info": {
   "codemirror_mode": {
    "name": "ipython",
    "version": 3
   },
   "file_extension": ".py",
   "mimetype": "text/x-python",
   "name": "python",
   "nbconvert_exporter": "python",
   "pygments_lexer": "ipython3",
   "version": "3.6.5"
  }
 },
 "nbformat": 4,
 "nbformat_minor": 4
}
