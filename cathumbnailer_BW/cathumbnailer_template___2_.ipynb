{
 "cells": [
  {
   "cell_type": "markdown",
   "metadata": {},
   "source": [
    "# Cathumbnailer\n",
    "\n",
    "Notebook which:\n",
    "<ul>\n",
    "    <li> downloads cat photos from the internet </li>\n",
    "    <li> creates thumbnails of these photos (size can be set by yourself) </li>\n",
    "    <li> compares runtime of software and hardware thumbnailer using the resizer overlay from the PYNQ Hello-World example\n",
    "</ul>"
   ]
  },
  {
   "cell_type": "markdown",
   "metadata": {},
   "source": [
    "### Import libraries\n",
    "for\n",
    "- image downloading (simple_image_download)\n",
    "- image processing (IPython.display, PIL)\n",
    "- access to system paths (os)\n",
    "- array creation (numpy)\n",
    "- pynq framework"
   ]
  },
  {
   "cell_type": "code",
   "execution_count": 1,
   "metadata": {},
   "outputs": [
    {
     "data": {
      "application/javascript": [
       "\n",
       "try {\n",
       "require(['notebook/js/codecell'], function(codecell) {\n",
       "  codecell.CodeCell.options_default.highlight_modes[\n",
       "      'magic_text/x-csrc'] = {'reg':[/^%%microblaze/]};\n",
       "  Jupyter.notebook.events.one('kernel_ready.Kernel', function(){\n",
       "      Jupyter.notebook.get_cells().map(function(cell){\n",
       "          if (cell.cell_type == 'code'){ cell.auto_highlight(); } }) ;\n",
       "  });\n",
       "});\n",
       "} catch (e) {};\n"
      ]
     },
     "metadata": {},
     "output_type": "display_data"
    },
    {
     "data": {
      "application/javascript": [
       "\n",
       "try {\n",
       "require(['notebook/js/codecell'], function(codecell) {\n",
       "  codecell.CodeCell.options_default.highlight_modes[\n",
       "      'magic_text/x-csrc'] = {'reg':[/^%%pybind11/]};\n",
       "  Jupyter.notebook.events.one('kernel_ready.Kernel', function(){\n",
       "      Jupyter.notebook.get_cells().map(function(cell){\n",
       "          if (cell.cell_type == 'code'){ cell.auto_highlight(); } }) ;\n",
       "  });\n",
       "});\n",
       "} catch (e) {};\n"
      ]
     },
     "metadata": {},
     "output_type": "display_data"
    }
   ],
   "source": [
    "### Lib for downloading images\n",
    "from simple_image_download import simple_image_download as simp\n",
    "from IPython.display import Image\n",
    "\n",
    "### Lib for os-path interaction\n",
    "import os\n",
    "from pathlib import Path\n",
    "\n",
    "from PIL import Image\n",
    "import numpy as np\n",
    "import matplotlib.pyplot as plt\n",
    "%matplotlib inline\n",
    "\n",
    "from pynq import allocate, Overlay"
   ]
  },
  {
   "cell_type": "markdown",
   "metadata": {},
   "source": [
    "# Download cat images\n",
    "Will search and download a number of images from the internet based on the specified searchterm. <br>\n",
    "We want cat pictures (who doesn't?) so the searchterm is 'cat'."
   ]
  },
  {
   "cell_type": "code",
   "execution_count": 2,
   "metadata": {},
   "outputs": [],
   "source": [
    "response = simp.simple_image_download\n",
    "searchterm = 'cat'\n",
    "\n",
    "response().download(searchterm, 25)    #response().download(searchterm, number of pictures to download)"
   ]
  },
  {
   "cell_type": "markdown",
   "metadata": {},
   "source": [
    "Varibale <b>Thumbnail_Width</b> sets the width of the generated thumbnails"
   ]
  },
  {
   "cell_type": "code",
   "execution_count": 3,
   "metadata": {},
   "outputs": [],
   "source": [
    "Thumbail_Width = 64"
   ]
  },
  {
   "cell_type": "markdown",
   "metadata": {},
   "source": [
    "## CPU Resizer Function\n",
    "\n",
    "Turns pictures into thumbnails, calculation is done entirely on the CPU. The function receives the image path."
   ]
  },
  {
   "cell_type": "code",
   "execution_count": 34,
   "metadata": {},
   "outputs": [],
   "source": [
    "def cpu_resize_images(image_path):\n",
    "    \n",
    "    ### Create an Image object\n",
    "    original_image = Image.open(image_path)\n",
    "    \n",
    "    ### Resizing\n",
    "    old_width, old_height = original_image.size\n",
    "    \n",
    "    ### Calculate new width and height\n",
    "    new_width = Thumbail_Width\n",
    "    resize_factor = int(old_width/new_width + 0.5)\n",
    "    if(resize_factor == 0):\n",
    "        return()\n",
    "    new_height = int(old_height/resize_factor + 0.5)\n",
    "    \n",
    "    ### Resize the image\n",
    "    resized_image = original_image.resize((new_width, new_height), Image.BILINEAR)\n",
    "    \n",
    "    return resized_image"
   ]
  },
  {
   "cell_type": "markdown",
   "metadata": {},
   "source": [
    "## Hardware Resizer Function\n",
    "\n",
    "Turns pictures into thumbnails, calculation is Hardware accelerated.\n",
    "\n",
    "The function receives the image path, the following chart shows an otherview of the function:\n",
    "\n",
    "<img src=\"./images/chart.png\" width=\"500\" height=\"500\"/>"
   ]
  },
  {
   "cell_type": "code",
   "execution_count": 29,
   "metadata": {},
   "outputs": [],
   "source": [
    "def fpga_resize_images(image_path):\n",
    "    \n",
    "    ## Save result image to the following directory!\n",
    "    res_directory = 'result_images'\n",
    "    \n",
    "    resize_design = Overlay(\"resizer.bit\")\n",
    "    dma = resize_design.axi_dma_0\n",
    "    resizer = resize_design.resize_accel_0\n",
    "    \n",
    "    ### Create an Image object\n",
    "    original_image = Image.open(image_path)\n",
    "    \n",
    "    ### Resizing\n",
    "    old_width, old_height = original_image.size\n",
    "    \n",
    "    ### Stop if picture is too large\n",
    "    if(old_width > 4000 or old_height > 4000):\n",
    "        return()\n",
    "    \n",
    "    new_width = Thumbail_Width\n",
    "    resize_factor = int(old_width/new_width + 0.5)\n",
    "    if(resize_factor == 0):\n",
    "        return()\n",
    "    new_height = int(old_height/resize_factor + 0.5)\n",
    "    \n",
    "    ###Create Hardware Buffer\n",
    "    in_buffer = allocate(shape=(old_height, old_width, 3), dtype=np.uint8, cacheable=1)\n",
    "    out_buffer = allocate(shape=(new_height, new_width, 3), dtype=np.uint8, cacheable=1)\n",
    "    \n",
    "    ###Write picture to array and pass it to the in_buffer, if picture is black/white, convert first\n",
    "    cust_Array = np.array(original_image)\n",
    "    \n",
    "    picture_is_bw = False\n",
    "    if( cust_Array.ndim == 2):\n",
    "        cust_Array = cust_Array[:,:, np.newaxis]\n",
    "        cust_Array = np.concatenate((cust_Array,cust_Array,cust_Array),axis = 2)\n",
    "        picture_is_bw = True\n",
    "    \n",
    "    in_buffer[:] = cust_Array\n",
    "        \n",
    "    ### Write dimension data to MMIO register\n",
    "    resizer.write(0x10, old_height)\n",
    "    resizer.write(0x18, old_width)\n",
    "    resizer.write(0x20, new_height)\n",
    "    resizer.write(0x28, new_width)\n",
    "    \n",
    "    ### Run Kernel\n",
    "    dma.sendchannel.transfer(in_buffer)\n",
    "    dma.recvchannel.transfer(out_buffer)\n",
    "    resizer.write(0x00,0x81) # start\n",
    "    dma.sendchannel.wait()\n",
    "    dma.recvchannel.wait()\n",
    "    \n",
    "    ### Readout resized image\n",
    "    resized_image = Image.fromarray(out_buffer)\n",
    "    \n",
    "    ### If picture was black/white, convert back\n",
    "    if (picture_is_bw == True):\n",
    "        resized_image = resized_image.convert('L')\n",
    "\n",
    "    # Reset Memory buffer\n",
    "    del in_buffer\n",
    "    del out_buffer\n",
    "    \n",
    "    return resized_image"
   ]
  },
  {
   "cell_type": "markdown",
   "metadata": {},
   "source": [
    "Call CPU Resizer Function in for loop for every picture.\n",
    "Check if the picture can be opened before the CPU Resizer Function is executed."
   ]
  },
  {
   "cell_type": "code",
   "execution_count": 30,
   "metadata": {},
   "outputs": [],
   "source": [
    "def software():\n",
    "    directory = 'simple_images/cat'\n",
    "\n",
    "    for filename in os.listdir(directory):\n",
    "        if filename.endswith(\".jpg\") or filename.endswith(\".png\"):\n",
    "            try:\n",
    "                original_image = Image.open(os.path.join(directory, filename))\n",
    "            except OSError:\n",
    "                a=5 #sonst Fehlermeldung\n",
    "            else:\n",
    "                cpu_resize_images(os.path.join(directory, filename))\n",
    "        else:\n",
    "            continue\n"
   ]
  },
  {
   "cell_type": "markdown",
   "metadata": {},
   "source": [
    "Call Hardware Resizer Function in for loop for every picture.\n",
    "Check if the picture can be opened before the Hardware Resizer Function is executed."
   ]
  },
  {
   "cell_type": "code",
   "execution_count": 31,
   "metadata": {},
   "outputs": [],
   "source": [
    "def hardware():\n",
    "    directory = 'simple_images/cat'\n",
    "\n",
    "    for filename in os.listdir(directory):\n",
    "        if filename.endswith(\".jpg\") or filename.endswith(\".png\"):\n",
    "            try:\n",
    "                original_image = Image.open(os.path.join(directory, filename))\n",
    "            except OSError:\n",
    "                a=5 #sonst Fehlermeldung\n",
    "            else:\n",
    "                fpga_resize_images(os.path.join(directory, filename))\n",
    "        else:\n",
    "            continue\n"
   ]
  },
  {
   "cell_type": "markdown",
   "metadata": {},
   "source": [
    "<big><b> Comparision of the runtime of software and hardware thumbnailer </big></b>\n",
    "\n",
    "Call the Resizer function with three different values for the variable Thumnail_Width: 64, 128, 256"
   ]
  },
  {
   "cell_type": "markdown",
   "metadata": {},
   "source": [
    "Determination of the execution time of the CPU Resizer Function "
   ]
  },
  {
   "cell_type": "code",
   "execution_count": 38,
   "metadata": {},
   "outputs": [
    {
     "name": "stderr",
     "output_type": "stream",
     "text": [
      "/usr/lib/python3/dist-packages/PIL/TiffImagePlugin.py:756: UserWarning: Corrupt EXIF data.  Expecting to read 4 bytes but only got 0. \n",
      "  warnings.warn(str(msg))\n"
     ]
    },
    {
     "name": "stdout",
     "output_type": "stream",
     "text": [
      "1 loop, best of 1: 13.2 s per loop\n"
     ]
    },
    {
     "name": "stderr",
     "output_type": "stream",
     "text": [
      "/usr/lib/python3/dist-packages/PIL/TiffImagePlugin.py:756: UserWarning: Corrupt EXIF data.  Expecting to read 4 bytes but only got 0. \n",
      "  warnings.warn(str(msg))\n"
     ]
    },
    {
     "name": "stdout",
     "output_type": "stream",
     "text": [
      "1 loop, best of 1: 13.9 s per loop\n"
     ]
    },
    {
     "name": "stderr",
     "output_type": "stream",
     "text": [
      "/usr/lib/python3/dist-packages/PIL/TiffImagePlugin.py:756: UserWarning: Corrupt EXIF data.  Expecting to read 4 bytes but only got 0. \n",
      "  warnings.warn(str(msg))\n"
     ]
    },
    {
     "name": "stdout",
     "output_type": "stream",
     "text": [
      "1 loop, best of 1: 15.2 s per loop\n"
     ]
    }
   ],
   "source": [
    "# TODO timeit cpu_resize_images(image_paths)\n",
    "soft_time = []\n",
    "\n",
    "for x in [64, 256, 512]:\n",
    "    Thumbail_Width = x\n",
    "\n",
    "    a = %timeit -n 1 -r 1 -o software()\n",
    "    soft_time.append(a.best)"
   ]
  },
  {
   "cell_type": "markdown",
   "metadata": {},
   "source": [
    "Determination of the execution time of the Hardware Resizer Function "
   ]
  },
  {
   "cell_type": "code",
   "execution_count": 37,
   "metadata": {},
   "outputs": [
    {
     "name": "stderr",
     "output_type": "stream",
     "text": [
      "/usr/lib/python3/dist-packages/PIL/TiffImagePlugin.py:756: UserWarning: Corrupt EXIF data.  Expecting to read 4 bytes but only got 0. \n",
      "  warnings.warn(str(msg))\n"
     ]
    },
    {
     "name": "stdout",
     "output_type": "stream",
     "text": [
      "1 loop, best of 1: 20.6 s per loop\n"
     ]
    },
    {
     "name": "stderr",
     "output_type": "stream",
     "text": [
      "/usr/lib/python3/dist-packages/PIL/TiffImagePlugin.py:756: UserWarning: Corrupt EXIF data.  Expecting to read 4 bytes but only got 0. \n",
      "  warnings.warn(str(msg))\n"
     ]
    },
    {
     "name": "stdout",
     "output_type": "stream",
     "text": [
      "1 loop, best of 1: 20.7 s per loop\n"
     ]
    },
    {
     "name": "stderr",
     "output_type": "stream",
     "text": [
      "/usr/lib/python3/dist-packages/PIL/TiffImagePlugin.py:756: UserWarning: Corrupt EXIF data.  Expecting to read 4 bytes but only got 0. \n",
      "  warnings.warn(str(msg))\n"
     ]
    },
    {
     "name": "stdout",
     "output_type": "stream",
     "text": [
      "1 loop, best of 1: 20.9 s per loop\n"
     ]
    }
   ],
   "source": [
    "# TODO timeit fpga_resize_images(image_paths)\n",
    "hard_time = []\n",
    "\n",
    "for x in [64, 256, 512]:\n",
    "    Thumbail_Width = x\n",
    "\n",
    "    a = %timeit -n 1 -r 1 -o hardware()\n",
    "    hard_time.append(a.best)"
   ]
  },
  {
   "cell_type": "markdown",
   "metadata": {},
   "source": [
    "<b>Presentation of the comparison results with a plot</b>"
   ]
  },
  {
   "cell_type": "code",
   "execution_count": 39,
   "metadata": {},
   "outputs": [
    {
     "data": {
      "image/png": "[encoded data removed]",
      "text/plain": [
       "<matplotlib.figure.Figure at 0xae012550>"
      ]
     },
     "metadata": {},
     "output_type": "display_data"
    }
   ],
   "source": [
    "labels = ['64', '128', '256']\n",
    "\n",
    "x = np.arange(len(labels))  # the label locations\n",
    "width = 0.35  # the width of the bars\n",
    "\n",
    "fig, ax = plt.subplots()\n",
    "rects1 = ax.bar(x - width/2, soft_time, width, label='Software')\n",
    "rects2 = ax.bar(x + width/2, hard_time, width, label='Hardware')\n",
    "\n",
    "# Add some text for labels, title and custom x-axis tick labels, etc.\n",
    "ax.set_ylabel('Runtime [s]')\n",
    "ax.set_xlabel('Thumbnail_Width')\n",
    "ax.set_title('Runtime comparison for different Thumbnail_Width')\n",
    "ax.set_xticks(x)\n",
    "ax.set_xticklabels(labels)\n",
    "ax.legend()\n",
    "\n",
    "fig.tight_layout()\n",
    "\n",
    "plt.show()"
   ]
  },
  {
   "cell_type": "code",
   "execution_count": null,
   "metadata": {},
   "outputs": [],
   "source": []
  }
 ],
 "metadata": {
  "kernelspec": {
   "display_name": "Python 3",
   "language": "python",
   "name": "python3"
  },
  "language_info": {
   "codemirror_mode": {
    "name": "ipython",
    "version": 3
   },
   "file_extension": ".py",
   "mimetype": "text/x-python",
   "name": "python",
   "nbconvert_exporter": "python",
   "pygments_lexer": "ipython3",
   "version": "3.6.5"
  }
 },
 "nbformat": 4,
 "nbformat_minor": 4
}
